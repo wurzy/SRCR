{
 "cells": [
  {
   "cell_type": "code",
   "execution_count": 3,
   "metadata": {
    "tags": [
     "outputPrepend"
    ]
   },
   "outputs": [],
   "source": [
    "import pandas as pd \n",
    "import numpy as np \n",
    "import os.path\n",
    "\n",
    "def isNumber(x):\n",
    "    if not x.strip().replace('-', '').replace('+', '').replace('.', '').isdigit():\n",
    "        return False\n",
    "    try:\n",
    "         float(x)\n",
    "    except ValueError:\n",
    "         return False\n",
    "    return True\n",
    "\n",
    "def csv2predicado(id):\n",
    "    df = pd.read_csv(\"./CSV/carreira_\" + str(id) + \".csv\", encoding='utf-8')\n",
    "\n",
    "    df.dropna(inplace=True) # remove as entradas nulas, inplace significa para nao gerar um objeto novo mas aplicar ao df\n",
    "    df.drop_duplicates(inplace=True)\n",
    "\n",
    "    nome = \"povoamento2.pl\"\n",
    "    if os.path.exists(nome):\n",
    "        modo = 'a'\n",
    "    else:\n",
    "        modo = 'w'\n",
    "    f = open(nome,modo,encoding='utf-8')    \n",
    "\n",
    "    print(\"\\n%% CARREIRA \" + str(id) + \"\\n\", file = f)\n",
    "    count = 1\n",
    "    for i in range(len(df)):\n",
    "        predicado = 'paragem(' + str(id) + \", \" + str(count) + \", \"\n",
    "        for j in range(11):\n",
    "            if(j!=7):\n",
    "                valor = str(df.iloc[i,j])\n",
    "                if not isNumber(valor): # se nao for um float/int\n",
    "                    valor = '\\'' + valor + '\\''\n",
    "                predicado = predicado + valor + \", \"\n",
    "        predicado = predicado[:-2]    \n",
    "        predicado += ').'\n",
    "        print(predicado,file=f)    \n",
    "        count += 1\n",
    "       \n",
    "def ler_Todos():\n",
    "    for i in range(777):\n",
    "        if os.path.isfile(\"./CSV/carreira_\" + str(i) + \".csv\"):\n",
    "            csv2predicado(i)\n",
    "\n",
    "ler_Todos()"
   ]
  },
  {
   "cell_type": "code",
   "execution_count": 6,
   "metadata": {},
   "outputs": [],
   "source": [
    "import pandas as pd \n",
    "import numpy as np \n",
    "import os.path\n",
    "\n",
    "def csv2adjacentes(id):\n",
    "\n",
    "    df = pd.read_csv(\"./CSV/carreira_\" + str(id) + \".csv\", encoding='utf-8')\n",
    "\n",
    "    df.dropna(inplace=True) # remove as entradas nulas, inplace significa para nao gerar um objeto novo mas aplicar ao df\n",
    "    df.drop_duplicates(inplace=True)\n",
    "\n",
    "    nome = \"adjacentes.pl\"\n",
    "    if os.path.exists(nome):\n",
    "        modo = 'a'\n",
    "    else:\n",
    "        modo = 'w'\n",
    "    f = open(nome,modo,encoding='utf-8')  \n",
    "    ant = str(df.iloc[0,0])\n",
    "\n",
    "    print(\"\\n%% CARREIRA \" + str(id) + \"\\n\", file = f)\n",
    "\n",
    "    for i in range(1,len(df)):\n",
    "        valor = str(df.iloc[i,0])\n",
    "        predicado = 'adjacente(' + ant + \", \" + valor + \").\"\n",
    "        print(predicado,file=f)\n",
    "        ant = valor\n",
    "\n",
    "def ler_Todos():\n",
    "    for i in range(777):\n",
    "        if os.path.isfile(\"./CSV/carreira_\" + str(i) + \".csv\"):\n",
    "            csv2adjacentes(i)\n",
    "\n",
    "ler_Todos()      "
   ]
  },
  {
   "cell_type": "code",
   "execution_count": null,
   "metadata": {},
   "outputs": [],
   "source": []
  }
 ],
 "metadata": {
  "language_info": {
   "codemirror_mode": {
    "name": "ipython",
    "version": 3
   },
   "file_extension": ".py",
   "mimetype": "text/x-python",
   "name": "python",
   "nbconvert_exporter": "python",
   "pygments_lexer": "ipython3",
   "version": "3.7.6-final"
  },
  "orig_nbformat": 2,
  "kernelspec": {
   "name": "python3",
   "display_name": "Python 3"
  }
 },
 "nbformat": 4,
 "nbformat_minor": 2
}